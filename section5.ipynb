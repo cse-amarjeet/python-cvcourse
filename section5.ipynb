{
 "cells": [
  {
   "cell_type": "markdown",
   "metadata": {},
   "source": [
    "# Connecting to Camera"
   ]
  },
  {
   "cell_type": "code",
   "execution_count": 2,
   "metadata": {},
   "outputs": [
    {
     "ename": "error",
     "evalue": "OpenCV(3.4.2) c:\\miniconda3\\conda-bld\\opencv-suite_1534379934306\\work\\modules\\imgproc\\src\\color.hpp:253: error: (-215:Assertion failed) VScn::contains(scn) && VDcn::contains(dcn) && VDepth::contains(depth) in function 'cv::CvtHelper<struct cv::Set<3,4,-1>,struct cv::Set<1,-1,-1>,struct cv::Set<0,2,5>,2>::CvtHelper'\n",
     "output_type": "error",
     "traceback": [
      "\u001b[1;31m---------------------------------------------------------------------------\u001b[0m",
      "\u001b[1;31merror\u001b[0m                                     Traceback (most recent call last)",
      "\u001b[1;32m<ipython-input-2-00f4e0089770>\u001b[0m in \u001b[0;36m<module>\u001b[1;34m\u001b[0m\n\u001b[0;32m      9\u001b[0m \u001b[1;32mwhile\u001b[0m \u001b[1;32mTrue\u001b[0m\u001b[1;33m:\u001b[0m\u001b[1;33m\u001b[0m\u001b[0m\n\u001b[0;32m     10\u001b[0m     \u001b[0mret\u001b[0m\u001b[1;33m,\u001b[0m\u001b[0mframe\u001b[0m \u001b[1;33m=\u001b[0m \u001b[0mcap\u001b[0m\u001b[1;33m.\u001b[0m\u001b[0mread\u001b[0m\u001b[1;33m(\u001b[0m\u001b[1;33m)\u001b[0m\u001b[1;33m\u001b[0m\u001b[0m\n\u001b[1;32m---> 11\u001b[1;33m     \u001b[0mgray\u001b[0m \u001b[1;33m=\u001b[0m \u001b[0mcv2\u001b[0m\u001b[1;33m.\u001b[0m\u001b[0mcvtColor\u001b[0m\u001b[1;33m(\u001b[0m\u001b[0mframe\u001b[0m\u001b[1;33m,\u001b[0m\u001b[0mcv2\u001b[0m\u001b[1;33m.\u001b[0m\u001b[0mCOLOR_BGR2GRAY\u001b[0m\u001b[1;33m)\u001b[0m\u001b[1;33m\u001b[0m\u001b[0m\n\u001b[0m\u001b[0;32m     12\u001b[0m     \u001b[0mcv2\u001b[0m\u001b[1;33m.\u001b[0m\u001b[0mimshow\u001b[0m\u001b[1;33m(\u001b[0m\u001b[1;34m'frame'\u001b[0m\u001b[1;33m,\u001b[0m\u001b[0mgray\u001b[0m\u001b[1;33m)\u001b[0m\u001b[1;33m\u001b[0m\u001b[0m\n\u001b[0;32m     13\u001b[0m     \u001b[1;32mif\u001b[0m\u001b[1;33m(\u001b[0m\u001b[0mcv2\u001b[0m\u001b[1;33m.\u001b[0m\u001b[0mwaitKey\u001b[0m\u001b[1;33m(\u001b[0m\u001b[1;36m1\u001b[0m\u001b[1;33m)\u001b[0m \u001b[1;33m&\u001b[0m \u001b[1;36m0xFF\u001b[0m \u001b[1;33m==\u001b[0m \u001b[0mord\u001b[0m\u001b[1;33m(\u001b[0m\u001b[0mq\u001b[0m\u001b[1;33m)\u001b[0m\u001b[1;33m)\u001b[0m\u001b[1;33m:\u001b[0m\u001b[1;33m\u001b[0m\u001b[0m\n",
      "\u001b[1;31merror\u001b[0m: OpenCV(3.4.2) c:\\miniconda3\\conda-bld\\opencv-suite_1534379934306\\work\\modules\\imgproc\\src\\color.hpp:253: error: (-215:Assertion failed) VScn::contains(scn) && VDcn::contains(dcn) && VDepth::contains(depth) in function 'cv::CvtHelper<struct cv::Set<3,4,-1>,struct cv::Set<1,-1,-1>,struct cv::Set<0,2,5>,2>::CvtHelper'\n"
     ]
    }
   ],
   "source": [
    "#on this system I don't have camera so it is through some error\n",
    "import cv2\n",
    "\n",
    "cap = cv2.VideoCapture(0)\n",
    "\n",
    "width = int(cap.get(cv2.CAP_PROP_FRAME_WIDTH))\n",
    "height = int(cap.get(cv2.CAP_PROP_FRAME_HEIGHT))\n",
    "\n",
    "#save the video on the computer\n",
    "#WIDOWS --- DIVX\n",
    "# MACOD AND LINUX ---> XVID\n",
    "writer = cv2.VideoWriter('mysuvervideo.mp4',cv2.VideoWriter_fourcc(*'DIVX'),20,(width,height))\n",
    "\n",
    "while True:\n",
    "    ret,frame = cap.read()\n",
    "#     gray = cv2.cvtColor(frame,cv2.COLOR_BGR2GRAY)\n",
    "    \n",
    "    #operations (drawing)\n",
    "    writer.write(frame)\n",
    "    cv2.imshow('frame',gray)\n",
    "    \n",
    "    if(cv2.waitKey(1) & 0xFF == ord(q)):\n",
    "        break;\n",
    "        \n",
    "cap.release()\n",
    "writer.release()\n",
    "cv2.destroyAllWindows()"
   ]
  },
  {
   "cell_type": "markdown",
   "metadata": {},
   "source": [
    "# Using Video Files"
   ]
  },
  {
   "cell_type": "code",
   "execution_count": 5,
   "metadata": {},
   "outputs": [],
   "source": [
    "import cv2\n",
    "import time\n",
    "cap = cv2.VideoCapture('./course_content/DATA/hand_move.mp4')\n",
    "\n",
    "if cap.isOpened() == False:\n",
    "    print('Error file not found or wrong codec used')\n",
    "    \n",
    "while cap.isOpened():\n",
    "    ret,frame = cap.read()\n",
    "    if(ret ==True):\n",
    "        #Writer 20 FPS\n",
    "        time.sleep(1/20)  #this make video as speed of 1x because video has recorded at 20 fps\n",
    "        cv2.imshow('frame',frame)\n",
    "        if(cv2.waitKey(10)& 0xFF == ord('q')):\n",
    "            break \n",
    "    else:\n",
    "        break\n",
    "        \n",
    "cap.release()\n",
    "cv2.destroyAllWindows()"
   ]
  },
  {
   "cell_type": "markdown",
   "metadata": {},
   "source": [
    "# Drawing on Live Camera"
   ]
  },
  {
   "cell_type": "code",
   "execution_count": 1,
   "metadata": {},
   "outputs": [],
   "source": [
    "import cv2\n",
    "import time\n",
    "\n",
    "# cap = cv2.VideoCapture(0) #for video capture from camera\n",
    "cap = cv2.VideoCapture('./course_content/DATA/hand_move.mp4')\n",
    "\n",
    "\n",
    "width = int(cap.get(cv2.CAP_PROP_FRAME_WIDTH))\n",
    "height = int(cap.get(cv2.CAP_PROP_FRAME_HEIGHT))\n",
    "\n",
    "#Top left corner\n",
    "x = width //2\n",
    "y = height //2\n",
    "\n",
    "#width and height of rectangle\n",
    "w = width //4\n",
    "h = height//4\n",
    "\n",
    "#draw a rectangle\n",
    "while True:\n",
    "    ret,frame = cap.read()\n",
    "    time.sleep(1/20)\n",
    "    cv2.rectangle(frame,(x,y),(x+w,y+h),color=(0,0,255),thickness=4)\n",
    "    cv2.imshow('frame',frame)\n",
    "    \n",
    "    if(cv2.waitKey(1) & 0xFF== ord('q')):\n",
    "        break\n",
    "\n",
    "cap.release()\n",
    "cv2.destroyAllWindows()"
   ]
  },
  {
   "cell_type": "markdown",
   "metadata": {},
   "source": [
    "# Interactive drawing using some object detection"
   ]
  },
  {
   "cell_type": "code",
   "execution_count": 2,
   "metadata": {},
   "outputs": [],
   "source": [
    "import cv2\n",
    "import time\n",
    "\n",
    "\n",
    "\n",
    "## CALLBACK function rectangle\n",
    "def draw_rectangle(event,x,y,flags,param):\n",
    "    global pt1,pt2, topLeft_clicked,botRight_clicked\n",
    "    if(event == cv2.EVENT_LBUTTONDOWN):\n",
    "        #reset the rectangle\n",
    "        if(topLeft_clicked == True and botRight_clicked == True):\n",
    "            pt1 = (0,0)\n",
    "            pt2 = (0,0)\n",
    "            topLeft_clicked = False\n",
    "            botRight_clicked = False\n",
    "        if(topLeft_clicked == False):\n",
    "            pt1 = (x,y)\n",
    "            topLeft_clicked = True\n",
    "        elif(topLeft_clicked == True and botRight_clicked ==False):\n",
    "            pt2 = (x,y)\n",
    "            botRight_clicked = True\n",
    "\n",
    "##  GLOBAL VARIABLE\n",
    "pt1 = (0,0)\n",
    "pt2 = (0,0)\n",
    "topLeft_clicked = False\n",
    "botRight_clicked = False\n",
    "## CONNECT TO THE CALLBACK\n",
    "# cap = cv2.VideoCapture(0) #for video capture from camera\n",
    "cap = cv2.VideoCapture('./course_content/DATA/hand_move.mp4')\n",
    "\n",
    "cv2.namedWindow('Test')\n",
    "cv2.setMouseCallback('Test',draw_rectangle)\n",
    "\n",
    "\n",
    "#draw a rectangle\n",
    "while True:\n",
    "    ret,frame = cap.read()\n",
    "    ## DRAWING ON THE FRAME BASED OFF THE GLOBAL VARIABLES\n",
    "    if(topLeft_clicked):\n",
    "        cv2.circle(frame,center=pt1,radius=5,color=(0,0,255),thickness=-1)\n",
    "    if(topLeft_clicked and botRight_clicked):\n",
    "        cv2.rectangle(frame,pt1,pt2,(0,0,255),3)\n",
    "    time.sleep(1/20)\n",
    "    cv2.imshow('Test',frame)\n",
    "    \n",
    "    if(cv2.waitKey(1) & 0xFF== ord('q')):\n",
    "        break\n",
    "\n",
    "cap.release()\n",
    "cv2.destroyAllWindows()"
   ]
  },
  {
   "cell_type": "markdown",
   "metadata": {},
   "source": [
    "# Assignment"
   ]
  },
  {
   "cell_type": "code",
   "execution_count": 4,
   "metadata": {},
   "outputs": [],
   "source": [
    "import cv2\n",
    "import time\n",
    "\n",
    "## CALLBACK function rectangle\n",
    "def draw_rectangle(event,x,y,flags,param):\n",
    "    global pt1,clicked\n",
    "    if(event == cv2.EVENT_LBUTTONDOWN):\n",
    "        #reset the rectangle\n",
    "        if(topLeft_clicked == True):\n",
    "            pt1 = (x,y)\n",
    "            clicked = True\n",
    "        if(clicked == False):\n",
    "            pt1 = (x,y)\n",
    "            clicked = True\n",
    "\n",
    "##  GLOBAL VARIABLE\n",
    "pt1 = (0,0)\n",
    "clicked = False\n",
    "\n",
    "## CONNECT TO THE CALLBACK\n",
    "# cap = cv2.VideoCapture(0) #for video capture from camera\n",
    "cap = cv2.VideoCapture('./course_content/DATA/hand_move.mp4')\n",
    "\n",
    "cv2.namedWindow('Test')\n",
    "cv2.setMouseCallback('Test',draw_rectangle)\n",
    "\n",
    "\n",
    "#draw a rectangle\n",
    "while True:\n",
    "    ret,frame = cap.read()\n",
    "    ## DRAWING ON THE FRAME BASED OFF THE GLOBAL VARIABLES\n",
    "    if(clicked):\n",
    "        cv2.circle(frame,center=pt1,radius=25,color=(255,0,0),thickness=4)\n",
    "    time.sleep(1/20)\n",
    "    cv2.imshow('Test',frame)\n",
    "    \n",
    "    if(cv2.waitKey(1) & 0xFF== ord('q')):\n",
    "        break\n",
    "\n",
    "cap.release()\n",
    "cv2.destroyAllWindows()"
   ]
  },
  {
   "cell_type": "code",
   "execution_count": null,
   "metadata": {},
   "outputs": [],
   "source": []
  },
  {
   "cell_type": "code",
   "execution_count": null,
   "metadata": {},
   "outputs": [],
   "source": []
  },
  {
   "cell_type": "code",
   "execution_count": null,
   "metadata": {},
   "outputs": [],
   "source": []
  },
  {
   "cell_type": "code",
   "execution_count": null,
   "metadata": {},
   "outputs": [],
   "source": []
  },
  {
   "cell_type": "code",
   "execution_count": null,
   "metadata": {},
   "outputs": [],
   "source": []
  },
  {
   "cell_type": "code",
   "execution_count": null,
   "metadata": {},
   "outputs": [],
   "source": []
  },
  {
   "cell_type": "code",
   "execution_count": null,
   "metadata": {},
   "outputs": [],
   "source": []
  }
 ],
 "metadata": {
  "kernelspec": {
   "display_name": "Python 3",
   "language": "python",
   "name": "python3"
  },
  "language_info": {
   "codemirror_mode": {
    "name": "ipython",
    "version": 3
   },
   "file_extension": ".py",
   "mimetype": "text/x-python",
   "name": "python",
   "nbconvert_exporter": "python",
   "pygments_lexer": "ipython3",
   "version": "3.6.6"
  }
 },
 "nbformat": 4,
 "nbformat_minor": 2
}
